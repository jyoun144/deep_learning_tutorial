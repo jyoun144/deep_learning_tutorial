{
 "cells": [
  {
   "cell_type": "code",
   "execution_count": 1,
   "id": "4aa005b1",
   "metadata": {},
   "outputs": [],
   "source": [
    "import numpy as np"
   ]
  },
  {
   "cell_type": "markdown",
   "id": "12a9576b",
   "metadata": {},
   "source": [
    "$\\begin{equation*}\n",
    "\\mathbf{z}_{h_1} = \\mathbf{i}_1 \\times \\mathbf{w}_1 + \\mathbf{i}_2 \\times \\mathbf{w}_2 + \\mathbf{b}_1 \\\\\n",
    "\\mathbf{z}_{h_2} = \\mathbf{i}_1 \\times \\mathbf{w}_3 + \\mathbf{i}_2 \\times \\mathbf{w}_4 + \\mathbf{b}_1 \\\\\n",
    "\\mathbf{a}_{h_1} = \\frac{1}{1 + e^{-\\mathbf{z}_{h_1}}} \\\\\n",
    "\\mathbf{a}_{h_2} = \\frac{1}{1 + e^{-\\mathbf{z}_{h_2}}} \\\\ \n",
    "\\mathbf{z}_{o_1} = \\mathbf{a}_{h_1} \\times \\mathbf{w}_5 + \\mathbf{a}_{h_2} \\times \\mathbf{w}_6 + \\mathbf{b}_2 \\\\\n",
    "\\mathbf{z}_{o_2} = \\mathbf{a}_{h_1} \\times \\mathbf{w}_7 + \\mathbf{a}_{h_2} \\times \\mathbf{w}_8 + \\mathbf{b}_2 \\\\\n",
    "\\mathbf{a}_{o_1} = \\frac{1}{1 + e^{-\\mathbf{z}_{o_1}}} \\\\\n",
    "\\mathbf{a}_{o_2} = \\frac{1}{1 + e^{-\\mathbf{z}_{o_2}}} \\\\\n",
    "\\mathbf{E}_1 = \\frac{1}{2}\\Bigl(\\mathbf{target}_{o_1} - \\mathbf{a}_{o_1}\\Bigl)^2 \\\\\n",
    "\\mathbf{E}_2 = \\frac{1}{2}\\Bigl(\\mathbf{target}_{o_2} - \\mathbf{a}_{o_2}\\Bigl)^2 \\\\\n",
    "\\mathbf{E}_{total} = \\mathbf{E}_1 + \\mathbf{E}_2\n",
    "\\end{equation*}$"
   ]
  },
  {
   "cell_type": "code",
   "execution_count": 2,
   "id": "93e61f13",
   "metadata": {},
   "outputs": [],
   "source": [
    "class simple_neural_network:\n",
    "    def __init__(self, \n",
    "                 model_params, num_of_epochs):        \n",
    "        self.model_params = model_params\n",
    "        self.num_of_epochs = num_of_epochs    \n",
    "        \n",
    "    def train_model(self):\n",
    "        for i in range(self.num_of_epochs):\n",
    "            print(i)"
   ]
  },
  {
   "cell_type": "code",
   "execution_count": 3,
   "id": "9908d156",
   "metadata": {},
   "outputs": [
    {
     "name": "stdout",
     "output_type": "stream",
     "text": [
      "0\n",
      "1\n",
      "2\n",
      "3\n",
      "4\n",
      "5\n",
      "6\n",
      "7\n",
      "8\n",
      "9\n"
     ]
    }
   ],
   "source": [
    "input_dict = {'i1': 0.05,\n",
    "              'i2': 0.10,\n",
    "              'w1': 0.15,\n",
    "              'w2': 0.20,\n",
    "              'w3': 0.25,\n",
    "              'w4': 0.30,\n",
    "              'w5': 0.40,\n",
    "              'w6': 0.45,\n",
    "              'w7': 0.50,\n",
    "              'w8': 0.55,\n",
    "              'b1': (1.00, 0.35),\n",
    "              'b2': (1.00, 0.60)}\n",
    "obj = simple_neural_network(input_dict, 10)\n",
    "obj.train_model()\n"
   ]
  },
  {
   "cell_type": "markdown",
   "id": "7faef95b",
   "metadata": {},
   "source": [
    "$\\begin{aligned}\n",
    "\\frac{\\partial \\mathbf{E}_{total}}{\\partial \\mathbf{w}_5} \\times 2\n",
    "\\end{aligned}$"
   ]
  }
 ],
 "metadata": {
  "kernelspec": {
   "display_name": "Python 3 (ipykernel)",
   "language": "python",
   "name": "python3"
  },
  "language_info": {
   "codemirror_mode": {
    "name": "ipython",
    "version": 3
   },
   "file_extension": ".py",
   "mimetype": "text/x-python",
   "name": "python",
   "nbconvert_exporter": "python",
   "pygments_lexer": "ipython3",
   "version": "3.8.11"
  }
 },
 "nbformat": 4,
 "nbformat_minor": 5
}
